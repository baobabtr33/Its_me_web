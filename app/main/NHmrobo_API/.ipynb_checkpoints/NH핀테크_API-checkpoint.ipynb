{
 "cells": [
  {
   "cell_type": "code",
   "execution_count": 4,
   "metadata": {},
   "outputs": [
    {
     "name": "stdout",
     "output_type": "stream",
     "text": [
      "Collecting psycopg2\n",
      "  Downloading psycopg2-2.8.6.tar.gz (383 kB)\n",
      "\u001b[K     |████████████████████████████████| 383 kB 960 kB/s eta 0:00:01\n",
      "\u001b[31m    ERROR: Command errored out with exit status 1:\n",
      "     command: /Users/KimJungHwan/opt/anaconda3/bin/python -c 'import sys, setuptools, tokenize; sys.argv[0] = '\"'\"'/private/var/folders/hc/2zvcyst95vgg848bwtk8tkt40000gn/T/pip-install-ijxwb15j/psycopg2/setup.py'\"'\"'; __file__='\"'\"'/private/var/folders/hc/2zvcyst95vgg848bwtk8tkt40000gn/T/pip-install-ijxwb15j/psycopg2/setup.py'\"'\"';f=getattr(tokenize, '\"'\"'open'\"'\"', open)(__file__);code=f.read().replace('\"'\"'\\r\\n'\"'\"', '\"'\"'\\n'\"'\"');f.close();exec(compile(code, __file__, '\"'\"'exec'\"'\"'))' egg_info --egg-base /private/var/folders/hc/2zvcyst95vgg848bwtk8tkt40000gn/T/pip-pip-egg-info-trpvo050\n",
      "         cwd: /private/var/folders/hc/2zvcyst95vgg848bwtk8tkt40000gn/T/pip-install-ijxwb15j/psycopg2/\n",
      "    Complete output (23 lines):\n",
      "    running egg_info\n",
      "    creating /private/var/folders/hc/2zvcyst95vgg848bwtk8tkt40000gn/T/pip-pip-egg-info-trpvo050/psycopg2.egg-info\n",
      "    writing /private/var/folders/hc/2zvcyst95vgg848bwtk8tkt40000gn/T/pip-pip-egg-info-trpvo050/psycopg2.egg-info/PKG-INFO\n",
      "    writing dependency_links to /private/var/folders/hc/2zvcyst95vgg848bwtk8tkt40000gn/T/pip-pip-egg-info-trpvo050/psycopg2.egg-info/dependency_links.txt\n",
      "    writing top-level names to /private/var/folders/hc/2zvcyst95vgg848bwtk8tkt40000gn/T/pip-pip-egg-info-trpvo050/psycopg2.egg-info/top_level.txt\n",
      "    writing manifest file '/private/var/folders/hc/2zvcyst95vgg848bwtk8tkt40000gn/T/pip-pip-egg-info-trpvo050/psycopg2.egg-info/SOURCES.txt'\n",
      "    \n",
      "    Error: pg_config executable not found.\n",
      "    \n",
      "    pg_config is required to build psycopg2 from source.  Please add the directory\n",
      "    containing pg_config to the $PATH or specify the full executable path with the\n",
      "    option:\n",
      "    \n",
      "        python setup.py build_ext --pg-config /path/to/pg_config build ...\n",
      "    \n",
      "    or with the pg_config option in 'setup.cfg'.\n",
      "    \n",
      "    If you prefer to avoid building psycopg2 from source, please install the PyPI\n",
      "    'psycopg2-binary' package instead.\n",
      "    \n",
      "    For further information please check the 'doc/src/install.rst' file (also at\n",
      "    <https://www.psycopg.org/docs/install.html>).\n",
      "    \n",
      "    ----------------------------------------\u001b[0m\n",
      "\u001b[31mERROR: Command errored out with exit status 1: python setup.py egg_info Check the logs for full command output.\u001b[0m\n",
      "\u001b[33mWARNING: You are using pip version 20.2.3; however, version 20.3.1 is available.\n",
      "You should consider upgrading via the '/Users/KimJungHwan/opt/anaconda3/bin/python -m pip install --upgrade pip' command.\u001b[0m\n",
      "\u001b[?25h"
     ]
    }
   ],
   "source": [
    "!pip install psycopg2"
   ]
  },
  {
   "cell_type": "code",
   "execution_count": 5,
   "metadata": {},
   "outputs": [
    {
     "ename": "ModuleNotFoundError",
     "evalue": "No module named 'psycopg2'",
     "output_type": "error",
     "traceback": [
      "\u001b[0;31m---------------------------------------------------------------------------\u001b[0m",
      "\u001b[0;31mModuleNotFoundError\u001b[0m                       Traceback (most recent call last)",
      "\u001b[0;32m<ipython-input-5-f3e24915210d>\u001b[0m in \u001b[0;36m<module>\u001b[0;34m\u001b[0m\n\u001b[1;32m      6\u001b[0m \u001b[0;32mimport\u001b[0m \u001b[0mpandas\u001b[0m \u001b[0;32mas\u001b[0m \u001b[0mpd\u001b[0m\u001b[0;34m\u001b[0m\u001b[0;34m\u001b[0m\u001b[0m\n\u001b[1;32m      7\u001b[0m \u001b[0;32mimport\u001b[0m \u001b[0muuid\u001b[0m\u001b[0;34m\u001b[0m\u001b[0;34m\u001b[0m\u001b[0m\n\u001b[0;32m----> 8\u001b[0;31m \u001b[0;32mimport\u001b[0m \u001b[0mpsycopg2\u001b[0m\u001b[0;34m\u001b[0m\u001b[0;34m\u001b[0m\u001b[0m\n\u001b[0m\u001b[1;32m      9\u001b[0m \u001b[0;32mimport\u001b[0m \u001b[0mDB\u001b[0m\u001b[0;34m\u001b[0m\u001b[0;34m\u001b[0m\u001b[0m\n\u001b[1;32m     10\u001b[0m \u001b[0;32mimport\u001b[0m \u001b[0mshortuuid\u001b[0m\u001b[0;34m\u001b[0m\u001b[0;34m\u001b[0m\u001b[0m\n",
      "\u001b[0;31mModuleNotFoundError\u001b[0m: No module named 'psycopg2'"
     ]
    }
   ],
   "source": [
    "import requests\n",
    "import json\n",
    "from requests.auth import HTTPBasicAuth\n",
    "import datetime\n",
    "import random\n",
    "import pandas as pd\n",
    "import uuid \n",
    "import psycopg2\n",
    "import DB\n",
    "import shortuuid\n"
   ]
  },
  {
   "cell_type": "markdown",
   "metadata": {},
   "source": [
    "## 가입 때 필요한 정보"
   ]
  },
  {
   "cell_type": "code",
   "execution_count": 2,
   "metadata": {},
   "outputs": [],
   "source": [
    "AccessToken = \"79f94971b3be510a39f475a10e5e0ccd8a096c4316c04c12b9cbce0c0dfc7f7a\"\n",
    "#기업코드\n",
    "Iscd = \"000704\"\n",
    "#오늘 날짜\n",
    "Tsymd = datetime.datetime.now().strftime(\"%Y%m%d\")\n",
    "#생년월일\n",
    "BrdtBrno = \"19501211\"\n",
    "Bncd = \"011\"\n",
    "Acno = \"3020000003001\"\n",
    "FinAcno = \"00820100007040000000000005724\"\n",
    "random_sequence = \"\".join([str(i) for i in list(random.sample([0,1,2,3,4,5,6,7,8,9], 9))])"
   ]
  },
  {
   "cell_type": "code",
   "execution_count": 3,
   "metadata": {},
   "outputs": [],
   "source": [
    "itsme_info = {\"AccessToken\" : AccessToken, 'Iscd' : Iscd, \"BrdtBrno\" : BrdtBrno, \"Bncd\" : Bncd, \"Acno\" : Acno, \"FinAcno\" : FinAcno }\n"
   ]
  },
  {
   "cell_type": "code",
   "execution_count": 4,
   "metadata": {},
   "outputs": [],
   "source": [
    "AccessToken = \"51904849dc027093a8ed3072e4a7389b3b30da24fe3225be2527d8f14258d05b\"\n",
    "#기업코드\n",
    "Iscd = \"000751\"\n",
    "#오늘 날짜\n",
    "Tsymd = datetime.datetime.now().strftime(\"%Y%m%d\")\n",
    "#생년월일\n",
    "BrdtBrno = \"19501213\"\n",
    "Bncd = \"011\"\n",
    "Acno = \"3020000003229\"\n",
    "FinAcno = \"00820100007510000000000005759\"\n",
    "random_sequence = \"\".join([str(i) for i in list(random.sample([0,1,2,3,4,5,6,7,8,9], 9))])"
   ]
  },
  {
   "cell_type": "code",
   "execution_count": 5,
   "metadata": {},
   "outputs": [],
   "source": [
    "user_info = {\"AccessToken\" : AccessToken, 'Iscd' : Iscd, \"BrdtBrno\" : BrdtBrno, \"Bncd\" : Bncd, \"Acno\" : Acno, \"FinAcno\" : FinAcno }"
   ]
  },
  {
   "cell_type": "markdown",
   "metadata": {},
   "source": [
    "## 출금\n",
    "### 이츠미 계정에서 출석체크가 있을 때마다 출금 "
   ]
  },
  {
   "cell_type": "code",
   "execution_count": 6,
   "metadata": {},
   "outputs": [],
   "source": [
    "def withdrawl(user, amount, message = \"\"):\n",
    "\n",
    "    url_items = \"https://developers.nonghyup.com/DrawingTransfer.nh\"\n",
    "    headers = {'Content-type':'application/json', 'Accept':'application/json'}\n",
    "    \n",
    "    \n",
    "    AccessToken = user['AccessToken']\n",
    "    #기업코드\n",
    "    Iscd = user['Iscd']\n",
    "    #생년월일\n",
    "    BrdtBrno = user['BrdtBrno']\n",
    "    Bncd = user['Bncd']\n",
    "    Acno = user[\"Acno\"]    \n",
    "    FinAcno = user[\"FinAcno\"] \n",
    "    \n",
    "    Tsymd = datetime.datetime.now().strftime(\"%Y%m%d\")\n",
    "    Trtm = datetime.datetime.now().strftime(\"%H%M%S\")\n",
    "    IsTuno = \"\".join([str(i) for i in list(random.sample([0,1,2,3,4,5,6,7,8,9], 9))])\n",
    "        \n",
    "    \n",
    "    newItem = {\"Header\": {\n",
    "        \"ApiNm\": \"DrawingTransfer\",\n",
    "        \"Tsymd\": Tsymd,\n",
    "        \"Trtm\": Trtm,\n",
    "        \"Iscd\": Iscd,\n",
    "        \"FintechApsno\": \"001\",\n",
    "        \"ApiSvcCd\": \"DrawingTransferA\",\n",
    "        \"IsTuno\": IsTuno,\n",
    "        \"AccessToken\": AccessToken\n",
    "          },\n",
    "  \"FinAcno\": FinAcno,\n",
    "  \"Tram\": amount,\n",
    "  \"DractOtlt\": \"test\",\n",
    "  \"MractOtlt\":\"테스트\"\n",
    "\n",
    "}\n",
    "    \n",
    "    r = requests.post(url_items, auth=HTTPBasicAuth('shany.ka', 'shanky1213'), json=newItem, headers=headers)\n",
    "\n",
    "    r_text= json.loads(r.text)\n",
    "    \n",
    "    if '정상' in r_text['Header']['Rsms'] :\n",
    "        return {'uuid': shortuuid.uuid(), 'trade_time' : int(Tsymd+Trtm)}\n",
    "    else :\n",
    "        raise ValueError(str(r_text['Header']['Rsms']))\n",
    "    \n"
   ]
  },
  {
   "cell_type": "code",
   "execution_count": 7,
   "metadata": {},
   "outputs": [
    {
     "data": {
      "text/plain": [
       "{'uuid': '5MCefDEeZ3YQ6i2axQQESb', 'trade_time': 20201213160550}"
      ]
     },
     "execution_count": 7,
     "metadata": {},
     "output_type": "execute_result"
    }
   ],
   "source": [
    "withdrawl(itsme_info, 1)"
   ]
  },
  {
   "cell_type": "markdown",
   "metadata": {},
   "source": [
    "## Deposit\n",
    "### 가입 계정의 계좌번호에 입금 (모계좌 -> 자계좌)"
   ]
  },
  {
   "cell_type": "code",
   "execution_count": 8,
   "metadata": {},
   "outputs": [],
   "source": [
    "def deposit(user, amount, message = \"haha\"):\n",
    "    \n",
    "    url_items = \"https://developers.nonghyup.com/ReceivedTransferAccountNumber.nh\"\n",
    "    headers = {'Content-type':'application/json', 'Accept':'application/json'}\n",
    "    \n",
    "    AccessToken = user['AccessToken']\n",
    "    #기업코드\n",
    "    Iscd = user['Iscd']\n",
    "    #생년월일\n",
    "    BrdtBrno = user['BrdtBrno']\n",
    "    Bncd = user['Bncd']\n",
    "    Acno = user[\"Acno\"]\n",
    "\n",
    "    Tsymd = datetime.datetime.now().strftime(\"%Y%m%d\")\n",
    "    IsTuno = \"\".join([str(i) for i in list(random.sample([0,1,2,3,4,5,6,7,8,9], 9))])\n",
    "    Trtm = datetime.datetime.now().strftime(\"%H%M%S\")\n",
    "    \n",
    "    newItem = {\n",
    "      \"Header\": {\n",
    "        \"ApiNm\": \"ReceivedTransferAccountNumber\",\n",
    "        \"Tsymd\":Tsymd,\n",
    "        \"Trtm\":Trtm,\n",
    "        \"Iscd\": Iscd,\n",
    "        \"FintechApsno\":\"001\",\n",
    "        \"ApiSvcCd\":\"ReceivedTransferA\",\n",
    "        \"IsTuno\": IsTuno,\n",
    "        \"AccessToken\": AccessToken\n",
    "            },\n",
    "      \"Bncd\": \"011\",\n",
    "      \"Acno\": Acno,\n",
    "      \"Tram\": amount,\n",
    "      \"DractOtlt\": message,\n",
    "      \"MractOtlt\": message\n",
    "    }    \n",
    "    \n",
    "    r = requests.post(url_items, auth=HTTPBasicAuth('shany.ka', 'shanky1213'), json=newItem, headers=headers)\n",
    "\n",
    "    r_text= json.loads(r.text)\n",
    "    print(r.text)\n",
    "    print(r.status_code)\n",
    "    print(r_text)"
   ]
  },
  {
   "cell_type": "code",
   "execution_count": 9,
   "metadata": {},
   "outputs": [
    {
     "name": "stdout",
     "output_type": "stream",
     "text": [
      "{\"Header\":{\"Trtm\":\"160550\",\"Rsms\":\"정상처리 되었습니다.\",\"ApiNm\":\"ReceivedTransferAccountNumber\",\"IsTuno\":\"710594268\",\"Tsymd\":\"20201213\",\"FintechApsno\":\"001\",\"Iscd\":\"000751\",\"Rpcd\":\"00000\",\"ApiSvcCd\":\"ReceivedTransferA\"}}\n",
      "200\n",
      "{'Header': {'Trtm': '160550', 'Rsms': '정상처리 되었습니다.', 'ApiNm': 'ReceivedTransferAccountNumber', 'IsTuno': '710594268', 'Tsymd': '20201213', 'FintechApsno': '001', 'Iscd': '000751', 'Rpcd': '00000', 'ApiSvcCd': 'ReceivedTransferA'}}\n"
     ]
    }
   ],
   "source": [
    "deposit(user_info, 1)"
   ]
  },
  {
   "cell_type": "markdown",
   "metadata": {},
   "source": [
    "# 거래내역 확인\n",
    "## 유저의 자계좌의 거래내역 확인"
   ]
  },
  {
   "cell_type": "code",
   "execution_count": 31,
   "metadata": {},
   "outputs": [],
   "source": [
    "def check_trades(user, start_time =''):\n",
    "    headers = {'Content-type':'application/json', 'Accept':'application/json'}\n",
    "    url_items = \"https://developers.nonghyup.com/InquireTransactionHistory.nh\"\n",
    "\n",
    "    \n",
    "    AccessToken = user['AccessToken']\n",
    "    #기업코드\n",
    "    Iscd = user['Iscd']\n",
    "    #생년월일\n",
    "    BrdtBrno = user['BrdtBrno']\n",
    "    Bncd = user['Bncd']\n",
    "    Acno = user[\"Acno\"]    \n",
    "    \n",
    "    Tsymd = datetime.datetime.now().strftime(\"%Y%m%d\")\n",
    "    IsTuno = \"\".join([str(i) for i in list(random.sample([0,1,2,3,4,5,6,7,8,9], 9))])\n",
    "    Trtm = datetime.datetime.now().strftime(\"%H%M%S\")\n",
    "    \n",
    "    newItem = {\n",
    "    \"Header\":{\n",
    "        \"ApiNm\":\"InquireTransactionHistory\",\n",
    "        \"Tsymd\":Tsymd,\n",
    "        \"Trtm\":Trtm,\n",
    "        \"Iscd\": Iscd,\n",
    "        \"FintechApsno\":\"001\",\n",
    "        \"ApiSvcCd\":\"ReceivedTransferA\",\n",
    "        \"IsTuno\":IsTuno,\n",
    "        \"AccessToken\":\n",
    "        AccessToken},\n",
    "        \"Bncd\":Bncd,\n",
    "        \"Acno\":Acno,\n",
    "        \"Insymd\":\"20201201\",\n",
    "        \"Ineymd\":Tsymd,\n",
    "        \"TrnsDsnc\":\"A\",\n",
    "        \"Lnsq\":\"DESC\",\n",
    "        \"PageNo\":\"1\",\n",
    "        \"Dmcnt\":\"100\"\n",
    "    }\n",
    "\n",
    "\n",
    "    r = requests.post(url_items, auth=HTTPBasicAuth('shany.ka', 'shanky1213'), json=newItem, headers=headers)\n",
    "    r_text= json.loads(r.text)\n",
    "#     print(r.status_code)\n",
    "\n",
    "#     print(r_text)    \n",
    "    a = pd.DataFrame(r_text['REC'])\n",
    "    a['trade_time'] = a['Trdd'] + a['Txtm']\n",
    "    a['trade_time'] = a['trade_time'].map(int)\n",
    "    a.sort_values(by=['Trdd', 'Txtm'], axis=0, inplace=True, ascending = False)\n",
    "    if start_time != '':\n",
    "        a = a[a['trade_time']>= start_time]\n",
    "    return a\n",
    "\n"
   ]
  },
  {
   "cell_type": "code",
   "execution_count": 32,
   "metadata": {},
   "outputs": [
    {
     "data": {
      "text/html": [
       "<div>\n",
       "<style scoped>\n",
       "    .dataframe tbody tr th:only-of-type {\n",
       "        vertical-align: middle;\n",
       "    }\n",
       "\n",
       "    .dataframe tbody tr th {\n",
       "        vertical-align: top;\n",
       "    }\n",
       "\n",
       "    .dataframe thead th {\n",
       "        text-align: right;\n",
       "    }\n",
       "</style>\n",
       "<table border=\"1\" class=\"dataframe\">\n",
       "  <thead>\n",
       "    <tr style=\"text-align: right;\">\n",
       "      <th></th>\n",
       "      <th>AftrBlnc</th>\n",
       "      <th>TrnsAfAcntBlncSmblCd</th>\n",
       "      <th>BnprCntn</th>\n",
       "      <th>Txtm</th>\n",
       "      <th>Tuno</th>\n",
       "      <th>Trdd</th>\n",
       "      <th>Smr</th>\n",
       "      <th>Ccyn</th>\n",
       "      <th>MnrcDrotDsnc</th>\n",
       "      <th>Tram</th>\n",
       "      <th>HnisCd</th>\n",
       "      <th>HnbrCd</th>\n",
       "      <th>trade_time</th>\n",
       "    </tr>\n",
       "  </thead>\n",
       "  <tbody>\n",
       "    <tr>\n",
       "      <th>4</th>\n",
       "      <td>22</td>\n",
       "      <td>+</td>\n",
       "      <td>TNY6ercpTcmiA8W67NcYRZ</td>\n",
       "      <td>160617</td>\n",
       "      <td>21484</td>\n",
       "      <td>20201213</td>\n",
       "      <td>None</td>\n",
       "      <td>0</td>\n",
       "      <td>2</td>\n",
       "      <td>1</td>\n",
       "      <td>000</td>\n",
       "      <td>0000000</td>\n",
       "      <td>20201213160617</td>\n",
       "    </tr>\n",
       "    <tr>\n",
       "      <th>18</th>\n",
       "      <td>21</td>\n",
       "      <td>+</td>\n",
       "      <td>3ZuUDLxdMPMpG8e6Tycibh</td>\n",
       "      <td>160553</td>\n",
       "      <td>21476</td>\n",
       "      <td>20201213</td>\n",
       "      <td>None</td>\n",
       "      <td>0</td>\n",
       "      <td>2</td>\n",
       "      <td>1</td>\n",
       "      <td>000</td>\n",
       "      <td>0000000</td>\n",
       "      <td>20201213160553</td>\n",
       "    </tr>\n",
       "    <tr>\n",
       "      <th>13</th>\n",
       "      <td>20</td>\n",
       "      <td>+</td>\n",
       "      <td>haha</td>\n",
       "      <td>160550</td>\n",
       "      <td>21472</td>\n",
       "      <td>20201213</td>\n",
       "      <td>None</td>\n",
       "      <td>0</td>\n",
       "      <td>2</td>\n",
       "      <td>1</td>\n",
       "      <td>000</td>\n",
       "      <td>0000000</td>\n",
       "      <td>20201213160550</td>\n",
       "    </tr>\n",
       "    <tr>\n",
       "      <th>8</th>\n",
       "      <td>19</td>\n",
       "      <td>+</td>\n",
       "      <td>6NAnp8qG2fdkXYZZJNAbkN</td>\n",
       "      <td>160435</td>\n",
       "      <td>21453</td>\n",
       "      <td>20201213</td>\n",
       "      <td>None</td>\n",
       "      <td>0</td>\n",
       "      <td>2</td>\n",
       "      <td>1</td>\n",
       "      <td>000</td>\n",
       "      <td>0000000</td>\n",
       "      <td>20201213160435</td>\n",
       "    </tr>\n",
       "    <tr>\n",
       "      <th>3</th>\n",
       "      <td>18</td>\n",
       "      <td>+</td>\n",
       "      <td>aZLkzkcjLAbYJDjpYCDFx2</td>\n",
       "      <td>160418</td>\n",
       "      <td>21445</td>\n",
       "      <td>20201213</td>\n",
       "      <td>None</td>\n",
       "      <td>0</td>\n",
       "      <td>2</td>\n",
       "      <td>1</td>\n",
       "      <td>000</td>\n",
       "      <td>0000000</td>\n",
       "      <td>20201213160418</td>\n",
       "    </tr>\n",
       "    <tr>\n",
       "      <th>17</th>\n",
       "      <td>17</td>\n",
       "      <td>+</td>\n",
       "      <td>haha</td>\n",
       "      <td>160403</td>\n",
       "      <td>21437</td>\n",
       "      <td>20201213</td>\n",
       "      <td>None</td>\n",
       "      <td>0</td>\n",
       "      <td>2</td>\n",
       "      <td>1</td>\n",
       "      <td>000</td>\n",
       "      <td>0000000</td>\n",
       "      <td>20201213160403</td>\n",
       "    </tr>\n",
       "    <tr>\n",
       "      <th>12</th>\n",
       "      <td>16</td>\n",
       "      <td>+</td>\n",
       "      <td>dcdd38fa</td>\n",
       "      <td>160019</td>\n",
       "      <td>21368</td>\n",
       "      <td>20201213</td>\n",
       "      <td>None</td>\n",
       "      <td>0</td>\n",
       "      <td>2</td>\n",
       "      <td>1</td>\n",
       "      <td>000</td>\n",
       "      <td>0000000</td>\n",
       "      <td>20201213160019</td>\n",
       "    </tr>\n",
       "  </tbody>\n",
       "</table>\n",
       "</div>"
      ],
      "text/plain": [
       "   AftrBlnc TrnsAfAcntBlncSmblCd                BnprCntn    Txtm   Tuno  \\\n",
       "4        22                    +  TNY6ercpTcmiA8W67NcYRZ  160617  21484   \n",
       "18       21                    +  3ZuUDLxdMPMpG8e6Tycibh  160553  21476   \n",
       "13       20                    +                    haha  160550  21472   \n",
       "8        19                    +  6NAnp8qG2fdkXYZZJNAbkN  160435  21453   \n",
       "3        18                    +  aZLkzkcjLAbYJDjpYCDFx2  160418  21445   \n",
       "17       17                    +                    haha  160403  21437   \n",
       "12       16                    +                dcdd38fa  160019  21368   \n",
       "\n",
       "        Trdd   Smr Ccyn MnrcDrotDsnc Tram HnisCd   HnbrCd      trade_time  \n",
       "4   20201213  None    0            2    1    000  0000000  20201213160617  \n",
       "18  20201213  None    0            2    1    000  0000000  20201213160553  \n",
       "13  20201213  None    0            2    1    000  0000000  20201213160550  \n",
       "8   20201213  None    0            2    1    000  0000000  20201213160435  \n",
       "3   20201213  None    0            2    1    000  0000000  20201213160418  \n",
       "17  20201213  None    0            2    1    000  0000000  20201213160403  \n",
       "12  20201213  None    0            2    1    000  0000000  20201213160019  "
      ]
     },
     "execution_count": 32,
     "metadata": {},
     "output_type": "execute_result"
    }
   ],
   "source": [
    "check_trades(user_info, 20201213160000)"
   ]
  },
  {
   "cell_type": "markdown",
   "metadata": {},
   "source": [
    "## 계정의 잔고 확인\n",
    "### 자계좌의 잔고 확인"
   ]
  },
  {
   "cell_type": "code",
   "execution_count": 1,
   "metadata": {},
   "outputs": [],
   "source": [
    "def check_balance(user):\n",
    "    headers = {'Content-type':'application/json', 'Accept':'application/json'}\n",
    "    url_items = \"https://developers.nonghyup.com/InquireBalance.nh\"\n",
    "\n",
    "    \n",
    "    AccessToken = user['AccessToken']\n",
    "    #기업코드\n",
    "    Iscd = user['Iscd']\n",
    "    #생년월일\n",
    "    BrdtBrno = user['BrdtBrno']\n",
    "    Bncd = user['Bncd']\n",
    "    Acno = user[\"Acno\"]    \n",
    "    FinAcno = user[\"FinAcno\"] \n",
    "    \n",
    "    Tsymd = datetime.datetime.now().strftime(\"%Y%m%d\")\n",
    "    IsTuno = \"\".join([str(i) for i in list(random.sample([0,1,2,3,4,5,6,7,8,9], 9))])\n",
    "    \n",
    "    newItem = {\n",
    "        \"Header\": {\n",
    "            \"ApiNm\": \"InquireBalance\",\n",
    "            \"Tsymd\": Tsymd,\n",
    "            \"Trtm\": \"112428\",\n",
    "            \"Iscd\": Iscd,\n",
    "            \"FintechApsno\": \"001\",\n",
    "            \"ApiSvcCd\": \"ReceivedTransferA\",\n",
    "            \"IsTuno\": IsTuno,\n",
    "            \"AccessToken\": AccessToken\n",
    "        },\n",
    "        \"FinAcno\": FinAcno\n",
    "    }\n",
    "\n",
    "    r = requests.post(url_items, auth=HTTPBasicAuth('shany.ka', 'shanky1213'), json=newItem, headers=headers)\n",
    "    r_text= json.loads(r.text)\n",
    "    print(r.status_code)\n",
    "    print(r_text)        \n",
    "    return r_text['Ldbl']"
   ]
  },
  {
   "cell_type": "code",
   "execution_count": 13,
   "metadata": {},
   "outputs": [
    {
     "name": "stdout",
     "output_type": "stream",
     "text": [
      "200\n",
      "{'FinAcno': '00820100007510000000000005759', 'Header': {'Trtm': '112428', 'Rsms': '정상처리 되었습니다.', 'ApiNm': 'InquireBalance', 'IsTuno': '379412856', 'Tsymd': '20201213', 'FintechApsno': '001', 'Iscd': '000751', 'Rpcd': '00000', 'ApiSvcCd': 'ReceivedTransferA'}, 'Ldbl': '20', 'RlpmAbamt': '20'}\n"
     ]
    },
    {
     "data": {
      "text/plain": [
       "'20'"
      ]
     },
     "execution_count": 13,
     "metadata": {},
     "output_type": "execute_result"
    }
   ],
   "source": [
    "check_balance(user_info)\n"
   ]
  },
  {
   "cell_type": "markdown",
   "metadata": {},
   "source": [
    "# 출석 체크\n",
    "### 출석체크와 동시에 trade_id DB에 입력 및 user_balance 반환"
   ]
  },
  {
   "cell_type": "code",
   "execution_count": 19,
   "metadata": {},
   "outputs": [],
   "source": [
    "def check(itsme_info, user_info):\n",
    "    a = DB.DBBot(\"NH\")\n",
    "    trade = withdrawl(itsme_info, 1)\n",
    "    trade_id = trade['uuid']\n",
    "    trade_time = trade['trade_time']\n",
    "    deposit(user_info, 1, trade_id)\n",
    "    user_balance = check_balance(user_info)\n",
    "    a.insert_order(trade_id,user_info['Iscd'], trade_time)\n",
    "    print(trade_time)\n",
    "    return user_balance"
   ]
  },
  {
   "cell_type": "code",
   "execution_count": 20,
   "metadata": {},
   "outputs": [
    {
     "name": "stdout",
     "output_type": "stream",
     "text": [
      "{\"Header\":{\"Trtm\":\"160617\",\"Rsms\":\"정상처리 되었습니다.\",\"ApiNm\":\"ReceivedTransferAccountNumber\",\"IsTuno\":\"621750493\",\"Tsymd\":\"20201213\",\"FintechApsno\":\"001\",\"Iscd\":\"000751\",\"Rpcd\":\"00000\",\"ApiSvcCd\":\"ReceivedTransferA\"}}\n",
      "200\n",
      "{'Header': {'Trtm': '160617', 'Rsms': '정상처리 되었습니다.', 'ApiNm': 'ReceivedTransferAccountNumber', 'IsTuno': '621750493', 'Tsymd': '20201213', 'FintechApsno': '001', 'Iscd': '000751', 'Rpcd': '00000', 'ApiSvcCd': 'ReceivedTransferA'}}\n",
      "200\n",
      "{'FinAcno': '00820100007510000000000005759', 'Header': {'Trtm': '112428', 'Rsms': '정상처리 되었습니다.', 'ApiNm': 'InquireBalance', 'IsTuno': '608472153', 'Tsymd': '20201213', 'FintechApsno': '001', 'Iscd': '000751', 'Rpcd': '00000', 'ApiSvcCd': 'ReceivedTransferA'}, 'Ldbl': '22', 'RlpmAbamt': '22'}\n",
      "20201213160617\n"
     ]
    },
    {
     "data": {
      "text/plain": [
       "'22'"
      ]
     },
     "execution_count": 20,
     "metadata": {},
     "output_type": "execute_result"
    }
   ],
   "source": [
    "check(itsme_info, user_info)"
   ]
  },
  {
   "cell_type": "code",
   "execution_count": null,
   "metadata": {},
   "outputs": [],
   "source": []
  },
  {
   "cell_type": "markdown",
   "metadata": {},
   "source": [
    "# 데이터베이스\n",
    "\n"
   ]
  },
  {
   "cell_type": "code",
   "execution_count": 16,
   "metadata": {},
   "outputs": [],
   "source": [
    "a = DB.DBBot(\"NH\")"
   ]
  },
  {
   "cell_type": "code",
   "execution_count": 17,
   "metadata": {},
   "outputs": [
    {
     "data": {
      "text/plain": [
       "(<connection object at 0x7f1467b92890; dsn: 'user=NH password=xxx dbname=NH host=211.218.53.149 port=5432', closed: 0>,\n",
       " <cursor object at 0x7f1496188a90; closed: 0>)"
      ]
     },
     "execution_count": 17,
     "metadata": {},
     "output_type": "execute_result"
    }
   ],
   "source": [
    "a.get_connection()"
   ]
  },
  {
   "cell_type": "code",
   "execution_count": null,
   "metadata": {},
   "outputs": [],
   "source": []
  },
  {
   "cell_type": "markdown",
   "metadata": {},
   "source": [
    "# 특정 시간 이후의 내용 가져올 수 있음"
   ]
  },
  {
   "cell_type": "code",
   "execution_count": 21,
   "metadata": {},
   "outputs": [
    {
     "data": {
      "text/html": [
       "<div>\n",
       "<style scoped>\n",
       "    .dataframe tbody tr th:only-of-type {\n",
       "        vertical-align: middle;\n",
       "    }\n",
       "\n",
       "    .dataframe tbody tr th {\n",
       "        vertical-align: top;\n",
       "    }\n",
       "\n",
       "    .dataframe thead th {\n",
       "        text-align: right;\n",
       "    }\n",
       "</style>\n",
       "<table border=\"1\" class=\"dataframe\">\n",
       "  <thead>\n",
       "    <tr style=\"text-align: right;\">\n",
       "      <th></th>\n",
       "      <th>trade_id</th>\n",
       "      <th>iscd</th>\n",
       "      <th>trade_time</th>\n",
       "    </tr>\n",
       "  </thead>\n",
       "  <tbody>\n",
       "    <tr>\n",
       "      <th>0</th>\n",
       "      <td>6NAnp8qG2fdkXYZZJNAbkN</td>\n",
       "      <td>000751</td>\n",
       "      <td>20201213160435</td>\n",
       "    </tr>\n",
       "    <tr>\n",
       "      <th>1</th>\n",
       "      <td>3ZuUDLxdMPMpG8e6Tycibh</td>\n",
       "      <td>000751</td>\n",
       "      <td>20201213160553</td>\n",
       "    </tr>\n",
       "    <tr>\n",
       "      <th>2</th>\n",
       "      <td>TNY6ercpTcmiA8W67NcYRZ</td>\n",
       "      <td>000751</td>\n",
       "      <td>20201213160617</td>\n",
       "    </tr>\n",
       "  </tbody>\n",
       "</table>\n",
       "</div>"
      ],
      "text/plain": [
       "                 trade_id    iscd      trade_time\n",
       "0  6NAnp8qG2fdkXYZZJNAbkN  000751  20201213160435\n",
       "1  3ZuUDLxdMPMpG8e6Tycibh  000751  20201213160553\n",
       "2  TNY6ercpTcmiA8W67NcYRZ  000751  20201213160617"
      ]
     },
     "execution_count": 21,
     "metadata": {},
     "output_type": "execute_result"
    }
   ],
   "source": [
    "a.get_trade_ids(\"000751\", 20201213160000)"
   ]
  },
  {
   "cell_type": "code",
   "execution_count": null,
   "metadata": {},
   "outputs": [],
   "source": []
  }
 ],
 "metadata": {
  "kernelspec": {
   "display_name": "Python 3",
   "language": "python",
   "name": "python3"
  },
  "language_info": {
   "codemirror_mode": {
    "name": "ipython",
    "version": 3
   },
   "file_extension": ".py",
   "mimetype": "text/x-python",
   "name": "python",
   "nbconvert_exporter": "python",
   "pygments_lexer": "ipython3",
   "version": "3.7.4"
  }
 },
 "nbformat": 4,
 "nbformat_minor": 4
}
